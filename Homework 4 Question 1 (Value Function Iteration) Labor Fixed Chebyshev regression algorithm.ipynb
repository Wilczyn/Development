{
 "cells": [
  {
   "cell_type": "markdown",
   "metadata": {},
   "source": [
    "# Homework 4 Question 1 (Value Function Iteration)"
   ]
  },
  {
   "cell_type": "code",
   "execution_count": 1,
   "metadata": {},
   "outputs": [],
   "source": [
    "from IPython.display import display, Math, Latex\n",
    "import numpy as np\n",
    "import matplotlib.pyplot as plt\n",
    "import sympy as sy\n",
    "from operator import itemgetter\n",
    "from mpl_toolkits.mplot3d import Axes3D\n",
    "import math\n",
    "from math import exp\n",
    "from matplotlib import cm\n",
    "from matplotlib.ticker import LinearLocator, FormatStrFormatter\n",
    "from plotly.offline import init_notebook_mode, iplot\n",
    "import plotly.graph_objs as go\n",
    "from math import log\n",
    "plt.style.use(\"ggplot\")"
   ]
  },
  {
   "cell_type": "code",
   "execution_count": 2,
   "metadata": {},
   "outputs": [],
   "source": [
    "theta = 0.679\n",
    "beta = 0.988\n",
    "delta = 0.013\n",
    "h = 1\n",
    "k = 1\n",
    "kappa = 5.24\n",
    "v = 2.0"
   ]
  },
  {
   "cell_type": "markdown",
   "metadata": {},
   "source": [
    "## 1 a)"
   ]
  },
  {
   "cell_type": "code",
   "execution_count": 3,
   "metadata": {},
   "outputs": [],
   "source": [
    "#Labor Fixed\n",
    "def m(ki, kj):\n",
    "    h=1\n",
    "    c = ki**(1-theta)*h**theta+(1-delta)-kj\n",
    "    #Step 4 (consumption must be non negative)\n",
    "    if c >= 0:\n",
    "        return math.log(c) - kappa*(1/(1+1/v))\n",
    "    else:\n",
    "        return -10000000"
   ]
  },
  {
   "cell_type": "code",
   "execution_count": 66,
   "metadata": {},
   "outputs": [
    {
     "name": "stdout",
     "output_type": "stream",
     "text": [
      "Wall time: 46.9 ms\n"
     ]
    }
   ],
   "source": [
    "%%time\n",
    "### Inefficient version\n",
    "# p = 100, k_max = 2 ====>>> 13sekund\n",
    "k_min = 0.01\n",
    "k_max = 2\n",
    "p = 5\n",
    "\n",
    "\n",
    "#Step a) Compute the m ≥ n + 1 Chebyshev interpolation nodes in [−1, 1]:\n",
    "z1 = np.zeros(p)\n",
    "i=1\n",
    "while i <= p:\n",
    "    z1[i-1] = -math.cos((2*i-1)/(2*p)*math.pi)\n",
    "    i+=1\n",
    "\n",
    "\n",
    "#Step b) Adjust nodes to [a, b] intervals:\n",
    "k = np.zeros(p)\n",
    "i=1\n",
    "while i <= p:\n",
    "    k[i-1] = (z1[i-1] + 1)*((k_max-k_min)/2)\n",
    "    i += 1\n",
    "\n",
    "\n",
    "    \n",
    "#Step c) Evaluate f at the approximation nodes: wk = f (xk ), k = 1, ..., m.\n",
    "#y1 = np.exp(1/k)\n",
    "    \n",
    "    \n",
    "#Step 1\n",
    "#k = np.linspace(k_min, k_max, p) #The continuous variable k is discretized by defining a grid for the values of k\n",
    "\n",
    "#Step 2\n",
    "V = []\n",
    "V.append(np.zeros(p)) #Guess a solution\n",
    "V.append(np.zeros(p))\n",
    "k_dec = []\n",
    "k_dec.append(np.zeros(p))\n",
    "kj_dec = []\n",
    "kj_dec.append(np.zeros(p))\n",
    "#kj_dec.append(np.zeros(p))\n",
    "#Step 3\n",
    "#Define the return matrix M\n",
    "\n",
    "M = [0]*p\n",
    "Chi = [0]*p\n",
    "for i in range(p):\n",
    "    M[i] = [0] * p\n",
    "    Chi[i] = [0] * p\n",
    "    \n",
    "    \n",
    "for i in range(p):\n",
    "    for j in range(p):\n",
    "        M[i][j] = m(k[i], k[j])\n",
    "\n",
    "\n",
    "\n",
    "for i in range(p):\n",
    "    for j in range(p):\n",
    "        Chi[i][j] = M[i][j] + beta* V[-1][j]\n",
    "\n",
    "#STEP 5.2: Compute the updated value function Vs+1 as the maximum element in each row of χ\n",
    "V_new = [0]*p\n",
    "k_dec_new = [0]*p\n",
    "for i in range(p):\n",
    "    V_new[i]=max(Chi[i])\n",
    "    #k_dec_new[i] = argmax(Chi[i])\n",
    "\n",
    "V.append(V_new)\n",
    "\n",
    "#check = True\n",
    "\n",
    "while (np.linalg.norm(np.asarray(V[-1]) - np.asarray(V[-2])) > 0.01): #STEP 6: If ||Vs+1 − Vs|| < ε, stop and report success. Otherwise, go back to the previous step, STEP 5, replacing s = s + 1.\n",
    "    #check = False\n",
    "    #STEP 5.1: Compute the matrix, χ\n",
    "    for i in range(p):\n",
    "        for j in range(p):\n",
    "            Chi[i][j] = m(k[i], k[j]) + beta* V[-1][j]\n",
    "    \n",
    "    #STEP 5.2: Compute the updated value function Vs+1 as the maximum element in each row of χ\n",
    "    V_new = [0]*p\n",
    "    k_dec_new = [0]*p\n",
    "    for i in range(p):\n",
    "        V_new[i]=max(Chi[i])\n",
    "        #k_dec_new[i] = argmax(Chi[i])\n",
    "\n",
    "    V.append(V_new)\n",
    "    #k_dec.append(Chi.argmax(1))\n",
    "    #kj_dec.append(k[k_dec[-1]])"
   ]
  },
  {
   "cell_type": "code",
   "execution_count": 67,
   "metadata": {},
   "outputs": [
    {
     "data": {
      "text/plain": [
       "[-267.4302388860591,\n",
       " -267.1014208130267,\n",
       " -266.93072336492435,\n",
       " -266.8341393374302,\n",
       " -266.78951067550486]"
      ]
     },
     "execution_count": 67,
     "metadata": {},
     "output_type": "execute_result"
    }
   ],
   "source": [
    "V[-1]"
   ]
  },
  {
   "cell_type": "code",
   "execution_count": 68,
   "metadata": {},
   "outputs": [
    {
     "data": {
      "text/plain": [
       "array([0.04869877, 0.41015367, 0.995     , 1.57984633, 1.94130123])"
      ]
     },
     "execution_count": 68,
     "metadata": {},
     "output_type": "execute_result"
    }
   ],
   "source": [
    "k"
   ]
  },
  {
   "cell_type": "code",
   "execution_count": 74,
   "metadata": {},
   "outputs": [
    {
     "data": {
      "text/plain": [
       "array([-267.01720662, -178.80329115,  -43.02896007,  -13.60831782,\n",
       "         -3.86258552,   -1.0462071 ])"
      ]
     },
     "execution_count": 74,
     "metadata": {},
     "output_type": "execute_result"
    }
   ],
   "source": [
    "theta_dash"
   ]
  },
  {
   "cell_type": "code",
   "execution_count": 69,
   "metadata": {},
   "outputs": [],
   "source": [
    "def cheb(n,x):\n",
    "    cz = np.polynomial.chebyshev.Chebyshev((int(0==n),int(1==n),int(2==n),int(3==n),int(4==n),int(5==n),int(6==n),int(7==n),int(8==n),int(9==n),int(10==n)))\n",
    "    return cz(x)"
   ]
  },
  {
   "cell_type": "code",
   "execution_count": 75,
   "metadata": {},
   "outputs": [],
   "source": [
    "#Step d) Compute Chebyshev coefficients, theta(i), associated with Chebyshev basis i = 0, ..., n:\n",
    "theta_dash = np.zeros(p+1)\n",
    "\n",
    "for i in range(p+1):\n",
    "    sumNom = 0\n",
    "    sumDen = 0\n",
    "    for j in range(p):\n",
    "        sumNom = sumNom + V[-1][j]*cheb(i,k[j])\n",
    "        sumDen = sumDen + cheb(i,k[j])*cheb(i,k[j])\n",
    "    theta_dash[i] = sumNom/sumDen"
   ]
  },
  {
   "cell_type": "code",
   "execution_count": 76,
   "metadata": {},
   "outputs": [
    {
     "data": {
      "text/plain": [
       "array([-267.01720662, -178.80329115,  -43.02896007,  -13.60831782,\n",
       "         -3.86258552,   -1.0462071 ])"
      ]
     },
     "execution_count": 76,
     "metadata": {},
     "output_type": "execute_result"
    }
   ],
   "source": [
    "theta_dash"
   ]
  },
  {
   "cell_type": "code",
   "execution_count": 71,
   "metadata": {},
   "outputs": [],
   "source": [
    "#to arrive at the approximation for f (x), x ∈ [a, b]:\n",
    "#X = np.linspace(0,1,100)\n",
    "Y = np.zeros(p)\n",
    "\n",
    "for ii in range(p):\n",
    "    f=0\n",
    "    for i in range(p+1):\n",
    "         f = f + theta_dash[i]*cheb(i, k[ii])\n",
    "    Y[ii] = f"
   ]
  },
  {
   "cell_type": "code",
   "execution_count": 72,
   "metadata": {},
   "outputs": [
    {
     "data": {
      "image/png": "[encoded data removed]",
      "text/plain": [
       "<matplotlib.figure.Figure at 0x2195d936128>"
      ]
     },
     "metadata": {},
     "output_type": "display_data"
    }
   ],
   "source": [
    "def plot1A():\n",
    "    plt.plot(k, Y, label='Value function')\n",
    "    plt.legend()\n",
    "    plt.rcParams[\"figure.figsize\"] = (12,8)\n",
    "    plt.xlabel('Initial kapital')\n",
    "    \n",
    "plot1A()"
   ]
  },
  {
   "cell_type": "markdown",
   "metadata": {},
   "source": [
    "# 1b) monotonicity"
   ]
  },
  {
   "cell_type": "code",
   "execution_count": 119,
   "metadata": {},
   "outputs": [
    {
     "name": "stdout",
     "output_type": "stream",
     "text": [
      "Wall time: 1.26 s\n"
     ]
    }
   ],
   "source": [
    "%%time\n",
    "# p = 100 , k_max = 2 ====>>> 5,5sekund\n",
    "\n",
    "k_min = 0.01\n",
    "k_max = 2\n",
    "p = 50\n",
    "\n",
    "#Step 1\n",
    "k = np.linspace(k_min, k_max, p) #The continuous variable k is discretized by defining a grid for the values of k\n",
    "\n",
    "#Step 2\n",
    "V = []\n",
    "V.append(np.zeros(p)) #Guess a solution\n",
    "V.append(np.zeros(p))\n",
    "k_dec = []\n",
    "k_dec.append(np.zeros(p))\n",
    "\n",
    "kj_dec = []\n",
    "kj_dec.append(np.zeros(p))\n",
    "\n",
    "\n",
    "#Step 3\n",
    "#Define the return matrix M\n",
    "M = [0]*p\n",
    "Chi = [0]*p\n",
    "for i in range(p):\n",
    "    M[i] = [0] * p\n",
    "    Chi[i] = [0] * p\n",
    "    \n",
    "    \n",
    "for i in range(p):\n",
    "    for j in range(p):\n",
    "        M[i][j] = m(k[i], k[j])\n",
    "\n",
    "\n",
    "\n",
    "for i in range(p):\n",
    "    for j in range(p):\n",
    "        Chi[i][j] = M[i][j] + beta* V[-1][j]\n",
    "\n",
    "#STEP 5.2: Compute the updated value function Vs+1 as the maximum element in each row of χ\n",
    "V_new = [0]*p\n",
    "k_dec_new = [0]*p\n",
    "for i in range(p):\n",
    "    V_new[i]=max(Chi[i])\n",
    "    #k_dec_new[i] = argmax(Chi[i])\n",
    "\n",
    "V.append(V_new)\n",
    "\n",
    "#check = True\n",
    "\n",
    "while (np.linalg.norm(np.asarray(V[-1]) - np.asarray(V[-2])) > 0.01): #STEP 6: If ||Vs+1 − Vs|| < ε, stop and report success. Otherwise, go back to the previous step, STEP 5, replacing s = s + 1.\n",
    "    #check = False\n",
    "    #STEP 5.1: Compute the matrix, χ\n",
    "    for i in range(p):\n",
    "        for j in range(p):\n",
    "            if k[j]>=k_dec[-1][j]:\n",
    "                Chi[i][j] =M[i][j] + beta* V[-1][j]\n",
    "\n",
    "    \n",
    "    #STEP 5.2: Compute the updated value function Vs+1 as the maximum element in each row of χ\n",
    "    V_new = [0]*p\n",
    "    k_dec_new = [0]*p\n",
    "    for i in range(p):\n",
    "        V_new[i]=max(Chi[i])\n",
    "        #k_dec_new[i] = argmax(Chi[i])\n",
    "\n",
    "    V.append(V_new)\n",
    "    #k_dec.append(Chi.argmax(1))\n",
    "    #kj_dec.append(k[k_dec[-1]])"
   ]
  },
  {
   "cell_type": "code",
   "execution_count": 30,
   "metadata": {},
   "outputs": [
    {
     "data": {
      "image/png": "[encoded data removed]",
      "text/plain": [
       "<matplotlib.figure.Figure at 0x29a98b280b8>"
      ]
     },
     "metadata": {},
     "output_type": "display_data"
    }
   ],
   "source": [
    "def plot1B():\n",
    "    plt.plot(k, V[-1], label='Value function')\n",
    "    plt.legend()\n",
    "    plt.rcParams[\"figure.figsize\"] = (12,8)\n",
    "    plt.xlabel('Initial kapital')\n",
    "    \n",
    "plot1A()"
   ]
  },
  {
   "cell_type": "markdown",
   "metadata": {},
   "source": [
    "# 1 c) concavity"
   ]
  },
  {
   "cell_type": "code",
   "execution_count": 124,
   "metadata": {},
   "outputs": [
    {
     "name": "stdout",
     "output_type": "stream",
     "text": [
      "Wall time: 244 ms\n"
     ]
    }
   ],
   "source": [
    "%%time\n",
    "# p = 100 , k_max = 2 ====>>> 1,4 sekund\n",
    "Cond = True\n",
    "k_min = 0.01\n",
    "k_max = 2\n",
    "p = 50\n",
    "\n",
    "#Step 1\n",
    "k = np.linspace(k_min, k_max, p) #The continuous variable k is discretized by defining a grid for the values of k\n",
    "\n",
    "#Step 2\n",
    "V = []\n",
    "V.append(np.zeros(p)) #Guess a solution\n",
    "V.append(np.zeros(p))\n",
    "k_dec = []\n",
    "k_dec.append(np.zeros(p))\n",
    "\n",
    "kj_dec = []\n",
    "kj_dec.append(np.zeros(p))\n",
    "\n",
    "\n",
    "#Step 3\n",
    "#Define the return matrix M\n",
    "M = [0]*p\n",
    "Chi = [0]*p\n",
    "for i in range(p):\n",
    "    M[i] = [0] * p\n",
    "    Chi[i] = [0] * p\n",
    "    \n",
    "    \n",
    "for i in range(p):\n",
    "    for j in range(p):\n",
    "        M[i][j] = m(k[i], k[j])\n",
    "\n",
    "\n",
    "\n",
    "for i in range(p):\n",
    "    for j in range(p):\n",
    "        Chi[i][j] = M[i][j] + beta* V[-1][j]\n",
    "\n",
    "#STEP 5.2: Compute the updated value function Vs+1 as the maximum element in each row of χ\n",
    "V_new = [0]*p\n",
    "k_dec_new = [0]*p\n",
    "for i in range(p):\n",
    "    V_new[i]=max(Chi[i])\n",
    "    #k_dec_new[i] = argmax(Chi[i])\n",
    "\n",
    "V.append(V_new)\n",
    "\n",
    "#check = True\n",
    "\n",
    "while (np.linalg.norm(np.asarray(V[-1]) - np.asarray(V[-2])) > 0.01): #STEP 6: If ||Vs+1 − Vs|| < ε, stop and report success. Otherwise, go back to the previous step, STEP 5, replacing s = s + 1.\n",
    "    #check = False\n",
    "    #STEP 5.1: Compute the matrix, χ\n",
    "    for i in range(p):\n",
    "        j=0\n",
    "        while j<p:\n",
    "            Chi[i][j] =M[i][j] + beta* V[-1][j]\n",
    "            if j>0:\n",
    "                if Chi[i][j]<Chi[i][j-1]:\n",
    "                    j=p\n",
    "            j = j+1\n",
    "            \n",
    "     \n",
    "        \n",
    "    \n",
    "    #STEP 5.2: Compute the updated value function Vs+1 as the maximum element in each row of χ\n",
    "    V_new = [0]*p\n",
    "    k_dec_new = [0]*p\n",
    "    for i in range(p):\n",
    "        V_new[i]=max(Chi[i])\n",
    "        #k_dec_new[i] = argmax(Chi[i])\n",
    "\n",
    "    V.append(V_new)\n",
    "    #k_dec.append(Chi.argmax(1))\n",
    "    #kj_dec.append(k[k_dec[-1]])"
   ]
  },
  {
   "cell_type": "code",
   "execution_count": 59,
   "metadata": {},
   "outputs": [
    {
     "data": {
      "image/png": "[encoded data removed]",
      "text/plain": [
       "<matplotlib.figure.Figure at 0x29a99b96438>"
      ]
     },
     "metadata": {},
     "output_type": "display_data"
    }
   ],
   "source": [
    "def plot1C():\n",
    "    plt.plot(k, V[-1], label='Value function')\n",
    "    plt.legend()\n",
    "    plt.rcParams[\"figure.figsize\"] = (12,8)\n",
    "    plt.xlabel('Initial kapital')\n",
    "    \n",
    "plot1C()"
   ]
  },
  {
   "cell_type": "markdown",
   "metadata": {},
   "source": [
    "# 1 d) local search"
   ]
  },
  {
   "cell_type": "code",
   "execution_count": 128,
   "metadata": {},
   "outputs": [
    {
     "name": "stdout",
     "output_type": "stream",
     "text": [
      "Wall time: 226 ms\n"
     ]
    }
   ],
   "source": [
    "%%time\n",
    "# p = 100 , k_max = 2 ====>>> 0,9 sekund\n",
    "Cond = True\n",
    "k_min = 0.01\n",
    "k_max = 2\n",
    "p = 50\n",
    "\n",
    "#Step 1\n",
    "k = np.linspace(k_min, k_max, p) #The continuous variable k is discretized by defining a grid for the values of k\n",
    "\n",
    "#Step 2\n",
    "V = []\n",
    "V.append(np.zeros(p)) #Guess a solution\n",
    "V.append(np.zeros(p))\n",
    "k_dec = []\n",
    "k_dec.append(np.zeros(p))\n",
    "\n",
    "kj_dec = []\n",
    "kj_dec.append(np.zeros(p))\n",
    "\n",
    "\n",
    "#Step 3\n",
    "#Define the return matrix M\n",
    "M = [0]*p\n",
    "Chi = [0]*p\n",
    "for i in range(p):\n",
    "    M[i] = [0] * p\n",
    "    Chi[i] = [0] * p\n",
    "    \n",
    "    \n",
    "for i in range(p):\n",
    "    for j in range(p):\n",
    "        M[i][j] = m(k[i], k[j])\n",
    "\n",
    "\n",
    "\n",
    "for i in range(p):\n",
    "    for j in range(p):\n",
    "        Chi[i][j] = M[i][j] + beta* V[-1][j]\n",
    "\n",
    "#STEP 5.2: Compute the updated value function Vs+1 as the maximum element in each row of χ\n",
    "V_new = [0]*p\n",
    "k_dec_new = [0]*p\n",
    "for i in range(p):\n",
    "    V_new[i]=max(Chi[i])\n",
    "    k_dec_new[i] = Chi[i].index(max(Chi[i]))\n",
    "\n",
    "V.append(V_new)\n",
    "k_dec.append(k_dec_new)\n",
    "\n",
    "\n",
    "while (np.linalg.norm(np.asarray(V[-1]) - np.asarray(V[-2])) > 0.01): #STEP 6: If ||Vs+1 − Vs|| < ε, stop and report success. Otherwise, go back to the previous step, STEP 5, replacing s = s + 1.\n",
    "    #STEP 5.1: Compute the matrix, χ\n",
    "    for i in range(p):\n",
    "        for j in range(k_dec_new[i]-1,k_dec_new[i]+1):\n",
    "            Chi[i][j] =M[i][j] + beta* V[-1][j]\n",
    "\n",
    "            \n",
    "    #STEP 5.2: Compute the updated value function Vs+1 as the maximum element in each row of χ\n",
    "    V_new = [0]*p\n",
    "    k_dec_new = [0]*p\n",
    "    for i in range(p):\n",
    "        V_new[i]=max(Chi[i])\n",
    "        k_dec_new[i] = Chi[i].index(max(Chi[i]))\n",
    "\n",
    "    V.append(V_new)\n",
    "    k_dec.append(k_dec_new)\n",
    "    #kj_dec.append(k[k_dec[-1]])"
   ]
  },
  {
   "cell_type": "code",
   "execution_count": 83,
   "metadata": {},
   "outputs": [
    {
     "data": {
      "image/png": "[encoded data removed]",
      "text/plain": [
       "<matplotlib.figure.Figure at 0x29a99ce38d0>"
      ]
     },
     "metadata": {},
     "output_type": "display_data"
    }
   ],
   "source": [
    "def plot1D():\n",
    "    plt.plot(k, V[-1], label='Value function')\n",
    "    plt.legend()\n",
    "    plt.rcParams[\"figure.figsize\"] = (12,8)\n",
    "    plt.xlabel('Initial kapital')\n",
    "    \n",
    "plot1D()"
   ]
  },
  {
   "cell_type": "markdown",
   "metadata": {},
   "source": [
    "# 1 e) concavity of the value function and monotonicity of the decision rule"
   ]
  },
  {
   "cell_type": "code",
   "execution_count": 132,
   "metadata": {},
   "outputs": [
    {
     "name": "stdout",
     "output_type": "stream",
     "text": [
      "Wall time: 348 ms\n"
     ]
    }
   ],
   "source": [
    "%%time\n",
    "# p = 100 , k_max = 2 ====>>> 1,5 sekund\n",
    "\n",
    "k_min = 0.01\n",
    "k_max = 2\n",
    "p = 50\n",
    "\n",
    "#Step 1\n",
    "k = np.linspace(k_min, k_max, p) #The continuous variable k is discretized by defining a grid for the values of k\n",
    "\n",
    "#Step 2\n",
    "V = []\n",
    "V.append(np.zeros(p)) #Guess a solution\n",
    "V.append(np.zeros(p))\n",
    "k_dec = []\n",
    "k_dec.append(np.zeros(p))\n",
    "\n",
    "kj_dec = []\n",
    "kj_dec.append(np.zeros(p))\n",
    "\n",
    "\n",
    "#Step 3\n",
    "#Define the return matrix M\n",
    "M = [0]*p\n",
    "Chi = [0]*p\n",
    "for i in range(p):\n",
    "    M[i] = [0] * p\n",
    "    Chi[i] = [0] * p\n",
    "    \n",
    "    \n",
    "for i in range(p):\n",
    "    for j in range(p):\n",
    "        M[i][j] = m(k[i], k[j])\n",
    "\n",
    "\n",
    "\n",
    "for i in range(p):\n",
    "    for j in range(p):\n",
    "        Chi[i][j] = M[i][j] + beta* V[-1][j]\n",
    "\n",
    "#STEP 5.2: Compute the updated value function Vs+1 as the maximum element in each row of χ\n",
    "V_new = [0]*p\n",
    "k_dec_new = [0]*p\n",
    "for i in range(p):\n",
    "    V_new[i]=max(Chi[i])\n",
    "    #k_dec_new[i] = argmax(Chi[i])\n",
    "\n",
    "V.append(V_new)\n",
    "\n",
    "#check = True\n",
    "\n",
    "while (np.linalg.norm(np.asarray(V[-1]) - np.asarray(V[-2])) > 0.01): #STEP 6: If ||Vs+1 − Vs|| < ε, stop and report success. Otherwise, go back to the previous step, STEP 5, replacing s = s + 1.\n",
    "    #check = False\n",
    "    #STEP 5.1: Compute the matrix, χ\n",
    "    for i in range(p):\n",
    "        j=0\n",
    "        while j<p:\n",
    "            if k[j]>=k_dec[-1][j]:\n",
    "                Chi[i][j] =M[i][j] + beta* V[-1][j]\n",
    "                if j>0:\n",
    "                    if Chi[i][j]<Chi[i][j-1]:\n",
    "                        j=p\n",
    "                j = j+1\n",
    "\n",
    "    \n",
    "    #STEP 5.2: Compute the updated value function Vs+1 as the maximum element in each row of χ\n",
    "    V_new = [0]*p\n",
    "    k_dec_new = [0]*p\n",
    "    for i in range(p):\n",
    "        V_new[i]=max(Chi[i])\n",
    "        #k_dec_new[i] = argmax(Chi[i])\n",
    "\n",
    "    V.append(V_new)\n",
    "    #k_dec.append(Chi.argmax(1))\n",
    "    #kj_dec.append(k[k_dec[-1]])"
   ]
  },
  {
   "cell_type": "code",
   "execution_count": 86,
   "metadata": {},
   "outputs": [
    {
     "data": {
      "image/png": "[encoded data removed]",
      "text/plain": [
       "<matplotlib.figure.Figure at 0x29a91a315f8>"
      ]
     },
     "metadata": {},
     "output_type": "display_data"
    }
   ],
   "source": [
    "def plot1E():\n",
    "    plt.plot(k, V[-1], label='Value function')\n",
    "    plt.legend()\n",
    "    plt.rcParams[\"figure.figsize\"] = (12,8)\n",
    "    plt.xlabel('Initial kapital')\n",
    "    \n",
    "plot1E()"
   ]
  },
  {
   "cell_type": "markdown",
   "metadata": {},
   "source": [
    "# Time of execution:\n",
    "| method\\policy iterations | 5 | 10 | 20 | 50|\n",
    "| --- | --- | --- | --- | --- |\n",
    "| Brut Force | 27ms | 107ms | 445ms | 2.9s |\n",
    "| Monotonicity | 16.3ms | 50.6ms| 239ms | 1.26s |\n",
    "| Concavity | 14.2ms | 23.9ms | 54.6ms | 244ms |\n",
    "| Local Search | 20.3ms | 24.6ms | 40.8ms | 226ms |\n",
    "| Concavity+Monotonicity | 14.6ms | 28.5ms | 64.2ms | 348ms |"
   ]
  }
 ],
 "metadata": {
  "kernelspec": {
   "display_name": "Python 3",
   "language": "python",
   "name": "python3"
  },
  "language_info": {
   "codemirror_mode": {
    "name": "ipython",
    "version": 3
   },
   "file_extension": ".py",
   "mimetype": "text/x-python",
   "name": "python",
   "nbconvert_exporter": "python",
   "pygments_lexer": "ipython3",
   "version": "3.6.4"
  }
 },
 "nbformat": 4,
 "nbformat_minor": 2
}
