{
 "cells": [
  {
   "cell_type": "markdown",
   "metadata": {},
   "source": [
    "# Homework 4 Question 2 (Business Cycle Fluctuations)"
   ]
  },
  {
   "cell_type": "code",
   "execution_count": 7,
   "metadata": {},
   "outputs": [],
   "source": [
    "from IPython.display import display, Math, Latex\n",
    "import numpy as np\n",
    "import matplotlib.pyplot as plt\n",
    "import sympy as sy\n",
    "from operator import itemgetter\n",
    "from mpl_toolkits.mplot3d import Axes3D\n",
    "import math\n",
    "from math import exp\n",
    "from matplotlib import cm\n",
    "from matplotlib.ticker import LinearLocator, FormatStrFormatter\n",
    "from plotly.offline import init_notebook_mode, iplot\n",
    "import plotly.graph_objs as go\n",
    "from math import log\n",
    "from scipy.stats import norm\n",
    "plt.style.use(\"ggplot\")"
   ]
  },
  {
   "cell_type": "code",
   "execution_count": 9,
   "metadata": {},
   "outputs": [],
   "source": [
    "theta = 0.679\n",
    "beta = 0.988\n",
    "delta = 0.013\n",
    "h = 1\n",
    "k = 1\n",
    "kappa = 5.24\n",
    "v = 2.0\n",
    "z=[1.01, 1/1.01]"
   ]
  },
  {
   "cell_type": "code",
   "execution_count": 10,
   "metadata": {},
   "outputs": [
    {
     "data": {
      "text/plain": [
       "[[0.4960106436853684, 0.5039893563146316],\n",
       " [0.5039498590343722, 0.49605014096562783]]"
      ]
     },
     "execution_count": 10,
     "metadata": {},
     "output_type": "execute_result"
    }
   ],
   "source": [
    "PI = [0]*2\n",
    "PI[0]=[0]*2\n",
    "PI[1]=[0]*2\n",
    "\n",
    "PI[0][0] = norm.cdf(1-1.01)\n",
    "PI[0][1] = 1-norm.cdf(1-1.01)\n",
    "PI[1][0] = norm.cdf(1-(1/1.01))\n",
    "PI[1][1] = 1-norm.cdf(1-(1/1.01))\n",
    "\n",
    "PI"
   ]
  },
  {
   "cell_type": "code",
   "execution_count": null,
   "metadata": {},
   "outputs": [],
   "source": [
    "#Labor Fixed\n",
    "def m(ki, kj, z):\n",
    "    c = z*ki**(1-theta)*(h)**theta+(1-delta)-kj\n",
    "    #Step 4 (consumption must be non negative)\n",
    "    if c >= 0:\n",
    "        return math.log(c) - kappa*(1/(1+1/v))\n",
    "    else:\n",
    "        return -10000000"
   ]
  },
  {
   "cell_type": "markdown",
   "metadata": {},
   "source": [
    "# 2"
   ]
  },
  {
   "cell_type": "code",
   "execution_count": 25,
   "metadata": {
    "scrolled": false
   },
   "outputs": [],
   "source": [
    "#%%time\n",
    "# p = 100 , k_max = 2 ====>>> 5,5sekund\n",
    "\n",
    "k_min = 0.01\n",
    "k_max = 2\n",
    "p = 10\n",
    "\n",
    "#Tauchen Method (1986)\n",
    "z_max = 1.01\n",
    "z_min = 1/1.01\n",
    "\n",
    "\n",
    "z = np.linspace(z_min, z_max, p)\n",
    "z_mid = (z_max+z_min)/2\n",
    "\n",
    "\n",
    "\n",
    "#Step 1\n",
    "k = np.linspace(k_min, k_max, p) #The continuous variable k is discretized by defining a grid for the values of k\n",
    "z = [1.01, 1/1.01]\n",
    "\n",
    "#Step 2\n",
    "V = []\n",
    "V.append(np.zeros(p*2)) #Guess a solution\n",
    "V.append(np.zeros(p*2))\n",
    "k_dec = []\n",
    "k_dec.append(np.zeros(p*2))\n",
    "\n",
    "kj_dec = []\n",
    "kj_dec.append(np.zeros(p*2))\n",
    "\n",
    "\n",
    "#Step 3\n",
    "#Define the return matrix M\n",
    "M1 = [0]*p\n",
    "Chi = [0]*(2*p)\n",
    "for i in range(p):\n",
    "    M1[i] = [0] * p\n",
    "\n",
    "    \n",
    "for i in range(p):\n",
    "    for j in range(p):       \n",
    "        M1[i][j] = m(k[i], k[j], 1.01)\n",
    "    \n",
    "M2 = [0]*p\n",
    "for i in range(p):\n",
    "    M2[i] = [0] * p\n",
    "\n",
    "    \n",
    "for i in range(p):\n",
    "    for j in range(p):       \n",
    "        M2[i][j] = m(k[i], k[j], 1/1.01)\n",
    "\n",
    "M = np.concatenate((M1, M2), axis=0)\n",
    "\n",
    "\n",
    "Chi = [0]* (p*2)    \n",
    "for i in range(p*2):\n",
    "    Chi[i] = [0] * p\n",
    "\n",
    "#Step 5.0: Compute the matrix Wsq×p,\n",
    "W = [0]* 2\n",
    "for i in range(2):\n",
    "    W[i] = [0] * p\n",
    "    \n",
    "\n",
    "for j in range(p):\n",
    "    for i in range(2):\n",
    "        W[i][j] = PI[i][0]*V[-1][j] + PI[i][1]*V[-1][p+j]\n",
    "            \n",
    "            \n",
    "for i in range(p):\n",
    "    for j in range(p):\n",
    "        Chi[i][j] = M[i][j] + beta* W[0][j]\n",
    "        \n",
    "for i in range(p,2*p):\n",
    "    for j in range(p):\n",
    "        Chi[i][j] = M[i][j] + beta* W[1][j]\n",
    "\n",
    "#STEP 5.2: Compute the updated value function Vs+1 as the maximum element in each row of χ\n",
    "V_new = [0]*p*2\n",
    "k_dec_new = [0]*p\n",
    "for i in range(p*2):\n",
    "    V_new[i]=max(Chi[i])\n",
    "    #k_dec_new[i] = argmax(Chi[i])\n",
    "\n",
    "    \n",
    "V.append(V_new)\n",
    "#check = True\n",
    "\n",
    "while (np.linalg.norm(np.asarray(V[-1]) - np.asarray(V[-2])) > 0.01): #STEP 6: If ||Vs+1 − Vs|| < ε, stop and report success. Otherwise, go back to the previous step, STEP 5, replacing s = s + 1.\n",
    "    #check = False\n",
    "    #STEP 5.1: Compute the matrix, χ\n",
    "    for j in range(p):\n",
    "        for i in range(2):\n",
    "            W[i][j] = PI[i][0]*V[-1][j] + PI[i][1]*V[-1][p+j-1]\n",
    "\n",
    "    for i in range(p):\n",
    "        for j in range(p):\n",
    "            Chi[i][j] = M[i][j] + beta* W[0][j]\n",
    "\n",
    "    for i in range(p,p*2):\n",
    "        for j in range(p):\n",
    "            Chi[i][j] = M[i][j] + beta* W[1][j]\n",
    "    \n",
    "    #STEP 5.2: Compute the updated value function Vs+1 as the maximum element in each row of χ\n",
    "    V_new = [0]*(p*2)\n",
    "    k_dec_new = [0]*p*2\n",
    "    for i in range(p*2):\n",
    "        V_new[i]=max(Chi[i])\n",
    "        #k_dec_new[i] = argmax(Chi[i])\n",
    "\n",
    "    V.append(V_new)\n",
    "    \n",
    "    Vz1 = V[-1][:p]\n",
    "    Vz2 = V[-1][p:2*p]\n",
    "    #k_dec.append(Chi.argmax(1))\n",
    "    #kj_dec.append(k[k_dec[-1]])"
   ]
  },
  {
   "cell_type": "code",
   "execution_count": null,
   "metadata": {},
   "outputs": [],
   "source": []
  },
  {
   "cell_type": "code",
   "execution_count": 27,
   "metadata": {},
   "outputs": [
    {
     "data": {
      "image/png": "[encoded data removed]",
      "text/plain": [
       "<matplotlib.figure.Figure at 0x27a657a7358>"
      ]
     },
     "metadata": {},
     "output_type": "display_data"
    }
   ],
   "source": [
    "def plot2B():\n",
    "    plt.plot(k, Vz2, label='Value function with negative shock')\n",
    "    plt.plot(k, Vz1, label='Value function with positive shock')\n",
    "    plt.legend()\n",
    "    plt.rcParams[\"figure.figsize\"] = (12,8)\n",
    "    plt.xlabel('Initial kapital')\n",
    "    \n",
    "plot2B()"
   ]
  }
 ],
 "metadata": {
  "kernelspec": {
   "display_name": "Python 3",
   "language": "python",
   "name": "python3"
  },
  "language_info": {
   "codemirror_mode": {
    "name": "ipython",
    "version": 3
   },
   "file_extension": ".py",
   "mimetype": "text/x-python",
   "name": "python",
   "nbconvert_exporter": "python",
   "pygments_lexer": "ipython3",
   "version": "3.6.4"
  }
 },
 "nbformat": 4,
 "nbformat_minor": 2
}
